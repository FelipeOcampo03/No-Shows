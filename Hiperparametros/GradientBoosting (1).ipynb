{
  "cells": [
    {
      "cell_type": "code",
      "execution_count": 1,
      "metadata": {
        "id": "KBIV-IR2ENHl"
      },
      "outputs": [],
      "source": [
        "import pandas as pd\n",
        "import numpy as np\n",
        "import matplotlib.pyplot as plt\n",
        "from sklearn.model_selection import train_test_split\n",
        "from sklearn.metrics import roc_curve, auc\n",
        "from sklearn.metrics import roc_auc_score"
      ]
    },
    {
      "cell_type": "markdown",
      "metadata": {
        "id": "_WSEZrhYHrwf"
      },
      "source": [
        "##Sin normalizar y con desbalance"
      ]
    },
    {
      "cell_type": "code",
      "execution_count": 2,
      "metadata": {},
      "outputs": [
        {
          "data": {
            "text/html": [
              "<div>\n",
              "<style scoped>\n",
              "    .dataframe tbody tr th:only-of-type {\n",
              "        vertical-align: middle;\n",
              "    }\n",
              "\n",
              "    .dataframe tbody tr th {\n",
              "        vertical-align: top;\n",
              "    }\n",
              "\n",
              "    .dataframe thead th {\n",
              "        text-align: right;\n",
              "    }\n",
              "</style>\n",
              "<table border=\"1\" class=\"dataframe\">\n",
              "  <thead>\n",
              "    <tr style=\"text-align: right;\">\n",
              "      <th></th>\n",
              "      <th>Tipo de cita</th>\n",
              "      <th>edad</th>\n",
              "      <th>sexo</th>\n",
              "      <th>aseguradora tipo</th>\n",
              "      <th>Numero DX</th>\n",
              "      <th>Hosp. Reciente</th>\n",
              "      <th>Numero de MX</th>\n",
              "      <th>hora</th>\n",
              "      <th>día cita</th>\n",
              "      <th>mes cita</th>\n",
              "      <th>intervalo creación - asignación</th>\n",
              "      <th>Asistencias previas</th>\n",
              "      <th>Inasistencias previas</th>\n",
              "    </tr>\n",
              "  </thead>\n",
              "  <tbody>\n",
              "    <tr>\n",
              "      <th>0</th>\n",
              "      <td>1</td>\n",
              "      <td>90</td>\n",
              "      <td>1</td>\n",
              "      <td>3</td>\n",
              "      <td>4</td>\n",
              "      <td>0</td>\n",
              "      <td>6</td>\n",
              "      <td>9</td>\n",
              "      <td>1</td>\n",
              "      <td>8</td>\n",
              "      <td>58</td>\n",
              "      <td>7</td>\n",
              "      <td>1</td>\n",
              "    </tr>\n",
              "    <tr>\n",
              "      <th>1</th>\n",
              "      <td>1</td>\n",
              "      <td>92</td>\n",
              "      <td>1</td>\n",
              "      <td>4</td>\n",
              "      <td>1</td>\n",
              "      <td>0</td>\n",
              "      <td>0</td>\n",
              "      <td>13</td>\n",
              "      <td>2</td>\n",
              "      <td>5</td>\n",
              "      <td>61</td>\n",
              "      <td>3</td>\n",
              "      <td>0</td>\n",
              "    </tr>\n",
              "    <tr>\n",
              "      <th>2</th>\n",
              "      <td>1</td>\n",
              "      <td>92</td>\n",
              "      <td>1</td>\n",
              "      <td>4</td>\n",
              "      <td>2</td>\n",
              "      <td>0</td>\n",
              "      <td>0</td>\n",
              "      <td>13</td>\n",
              "      <td>4</td>\n",
              "      <td>7</td>\n",
              "      <td>33</td>\n",
              "      <td>2</td>\n",
              "      <td>0</td>\n",
              "    </tr>\n",
              "    <tr>\n",
              "      <th>3</th>\n",
              "      <td>1</td>\n",
              "      <td>81</td>\n",
              "      <td>0</td>\n",
              "      <td>3</td>\n",
              "      <td>4</td>\n",
              "      <td>0</td>\n",
              "      <td>0</td>\n",
              "      <td>16</td>\n",
              "      <td>0</td>\n",
              "      <td>6</td>\n",
              "      <td>1</td>\n",
              "      <td>4</td>\n",
              "      <td>1</td>\n",
              "    </tr>\n",
              "    <tr>\n",
              "      <th>4</th>\n",
              "      <td>1</td>\n",
              "      <td>84</td>\n",
              "      <td>1</td>\n",
              "      <td>3</td>\n",
              "      <td>1</td>\n",
              "      <td>0</td>\n",
              "      <td>0</td>\n",
              "      <td>10</td>\n",
              "      <td>3</td>\n",
              "      <td>1</td>\n",
              "      <td>19</td>\n",
              "      <td>2</td>\n",
              "      <td>0</td>\n",
              "    </tr>\n",
              "    <tr>\n",
              "      <th>...</th>\n",
              "      <td>...</td>\n",
              "      <td>...</td>\n",
              "      <td>...</td>\n",
              "      <td>...</td>\n",
              "      <td>...</td>\n",
              "      <td>...</td>\n",
              "      <td>...</td>\n",
              "      <td>...</td>\n",
              "      <td>...</td>\n",
              "      <td>...</td>\n",
              "      <td>...</td>\n",
              "      <td>...</td>\n",
              "      <td>...</td>\n",
              "    </tr>\n",
              "    <tr>\n",
              "      <th>18582</th>\n",
              "      <td>0</td>\n",
              "      <td>64</td>\n",
              "      <td>1</td>\n",
              "      <td>1</td>\n",
              "      <td>1</td>\n",
              "      <td>0</td>\n",
              "      <td>0</td>\n",
              "      <td>10</td>\n",
              "      <td>4</td>\n",
              "      <td>9</td>\n",
              "      <td>14</td>\n",
              "      <td>5</td>\n",
              "      <td>0</td>\n",
              "    </tr>\n",
              "    <tr>\n",
              "      <th>18583</th>\n",
              "      <td>0</td>\n",
              "      <td>23</td>\n",
              "      <td>1</td>\n",
              "      <td>3</td>\n",
              "      <td>1</td>\n",
              "      <td>0</td>\n",
              "      <td>1</td>\n",
              "      <td>10</td>\n",
              "      <td>4</td>\n",
              "      <td>9</td>\n",
              "      <td>43</td>\n",
              "      <td>3</td>\n",
              "      <td>4</td>\n",
              "    </tr>\n",
              "    <tr>\n",
              "      <th>18584</th>\n",
              "      <td>0</td>\n",
              "      <td>25</td>\n",
              "      <td>1</td>\n",
              "      <td>3</td>\n",
              "      <td>1</td>\n",
              "      <td>0</td>\n",
              "      <td>0</td>\n",
              "      <td>11</td>\n",
              "      <td>4</td>\n",
              "      <td>9</td>\n",
              "      <td>43</td>\n",
              "      <td>4</td>\n",
              "      <td>1</td>\n",
              "    </tr>\n",
              "    <tr>\n",
              "      <th>18585</th>\n",
              "      <td>0</td>\n",
              "      <td>31</td>\n",
              "      <td>1</td>\n",
              "      <td>3</td>\n",
              "      <td>2</td>\n",
              "      <td>0</td>\n",
              "      <td>3</td>\n",
              "      <td>12</td>\n",
              "      <td>4</td>\n",
              "      <td>9</td>\n",
              "      <td>11</td>\n",
              "      <td>5</td>\n",
              "      <td>7</td>\n",
              "    </tr>\n",
              "    <tr>\n",
              "      <th>18586</th>\n",
              "      <td>0</td>\n",
              "      <td>57</td>\n",
              "      <td>1</td>\n",
              "      <td>3</td>\n",
              "      <td>3</td>\n",
              "      <td>0</td>\n",
              "      <td>0</td>\n",
              "      <td>14</td>\n",
              "      <td>4</td>\n",
              "      <td>9</td>\n",
              "      <td>10</td>\n",
              "      <td>2</td>\n",
              "      <td>15</td>\n",
              "    </tr>\n",
              "  </tbody>\n",
              "</table>\n",
              "<p>18587 rows × 13 columns</p>\n",
              "</div>"
            ],
            "text/plain": [
              "       Tipo de cita  edad  sexo  aseguradora tipo  Numero DX  Hosp. Reciente  \\\n",
              "0                 1    90     1                 3          4               0   \n",
              "1                 1    92     1                 4          1               0   \n",
              "2                 1    92     1                 4          2               0   \n",
              "3                 1    81     0                 3          4               0   \n",
              "4                 1    84     1                 3          1               0   \n",
              "...             ...   ...   ...               ...        ...             ...   \n",
              "18582             0    64     1                 1          1               0   \n",
              "18583             0    23     1                 3          1               0   \n",
              "18584             0    25     1                 3          1               0   \n",
              "18585             0    31     1                 3          2               0   \n",
              "18586             0    57     1                 3          3               0   \n",
              "\n",
              "       Numero de MX  hora  día cita  mes cita  \\\n",
              "0                 6     9         1         8   \n",
              "1                 0    13         2         5   \n",
              "2                 0    13         4         7   \n",
              "3                 0    16         0         6   \n",
              "4                 0    10         3         1   \n",
              "...             ...   ...       ...       ...   \n",
              "18582             0    10         4         9   \n",
              "18583             1    10         4         9   \n",
              "18584             0    11         4         9   \n",
              "18585             3    12         4         9   \n",
              "18586             0    14         4         9   \n",
              "\n",
              "       intervalo creación - asignación  Asistencias previas  \\\n",
              "0                                   58                    7   \n",
              "1                                   61                    3   \n",
              "2                                   33                    2   \n",
              "3                                    1                    4   \n",
              "4                                   19                    2   \n",
              "...                                ...                  ...   \n",
              "18582                               14                    5   \n",
              "18583                               43                    3   \n",
              "18584                               43                    4   \n",
              "18585                               11                    5   \n",
              "18586                               10                    2   \n",
              "\n",
              "       Inasistencias previas  \n",
              "0                          1  \n",
              "1                          0  \n",
              "2                          0  \n",
              "3                          1  \n",
              "4                          0  \n",
              "...                      ...  \n",
              "18582                      0  \n",
              "18583                      4  \n",
              "18584                      1  \n",
              "18585                      7  \n",
              "18586                     15  \n",
              "\n",
              "[18587 rows x 13 columns]"
            ]
          },
          "execution_count": 2,
          "metadata": {},
          "output_type": "execute_result"
        }
      ],
      "source": [
        "data = pd.read_excel('basededatos_balanceada (5) (1).xlsx')\n",
        "data"
      ]
    },
    {
      "cell_type": "code",
      "execution_count": 3,
      "metadata": {
        "id": "EJXA0ON9FgJP"
      },
      "outputs": [],
      "source": [
        "x = data.drop('Tipo de cita', axis=1)  # Ajusta 'etiqueta' al nombre de la columna de etiquetas\n",
        "y = data['Tipo de cita']\n",
        "X_train, X_test, y_train, y_test = train_test_split(x, y, test_size=0.2, random_state=0)"
      ]
    },
    {
      "cell_type": "code",
      "execution_count": 4,
      "metadata": {
        "colab": {
          "base_uri": "https://localhost:8080/"
        },
        "id": "v4uioLC5MWJr",
        "outputId": "e14a80e4-a41e-4fd5-dffb-e13ad2bc155f"
      },
      "outputs": [
        {
          "name": "stdout",
          "output_type": "stream",
          "text": [
            "Mejor combinación de hiperparámetros: {'learning_rate': 0.2, 'max_depth': 5, 'n_estimators': 200}\n",
            "Precisión más alta encontrada: 0.8173379740687936\n",
            "Puntuación ROC AUC: 0.7949026005749343\n"
          ]
        }
      ],
      "source": [
        "from sklearn.ensemble import GradientBoostingClassifier\n",
        "from sklearn.model_selection import GridSearchCV\n",
        "from sklearn.metrics import roc_auc_score\n",
        "\n",
        "param_grid = {\n",
        "    'n_estimators': [50, 100, 200],\n",
        "    'learning_rate': [0.01, 0.1, 0.2],\n",
        "    'max_depth': [3, 4, 5]\n",
        "}\n",
        "\n",
        "model = GradientBoostingClassifier()\n",
        "grid_search = GridSearchCV(model, param_grid, cv=5, scoring='accuracy')\n",
        "grid_search.fit(X_train, y_train)  # X_train e y_train son tus datos de entrenamiento\n",
        "\n",
        "best_params = grid_search.best_params_\n",
        "best_accuracy = grid_search.best_score_\n",
        "\n",
        "# Entrena el modelo con los mejores parámetros\n",
        "best_model = GradientBoostingClassifier(**best_params)\n",
        "best_model.fit(X_train, y_train)\n",
        "\n",
        "# Realiza predicciones en el conjunto de prueba\n",
        "y_pred = best_model.predict(X_test)\n",
        "\n",
        "# Calcula la puntuación ROC AUC\n",
        "roc_auc = roc_auc_score(y_test, y_pred)\n",
        "\n",
        "print(\"Mejor combinación de hiperparámetros:\", best_params)\n",
        "print(\"Precisión más alta encontrada:\", best_accuracy)\n",
        "print(\"Puntuación ROC AUC:\", roc_auc)"
      ]
    },
    {
      "cell_type": "markdown",
      "metadata": {
        "id": "z2eUF4fYHuDs"
      },
      "source": [
        "##Normalizada y con desbalance"
      ]
    },
    {
      "cell_type": "code",
      "execution_count": 5,
      "metadata": {
        "id": "m0rc0QqmHwJp"
      },
      "outputs": [],
      "source": [
        "x = data.drop('Tipo de cita', axis=1)  # Ajusta 'etiqueta' al nombre de la columna de etiquetas\n",
        "y = data['Tipo de cita']\n",
        "X_train_resampled, X_test, y_train_resampled, y_test = train_test_split(x, y, test_size=0.2, random_state=0)\n",
        "from sklearn.preprocessing import StandardScaler\n",
        "sc = StandardScaler()\n",
        "sc.fit(X_train_resampled)\n",
        "X_train_resampled= sc.transform(X_train_resampled)\n",
        "X_test = sc.transform(X_test)"
      ]
    },
    {
      "cell_type": "code",
      "execution_count": 6,
      "metadata": {
        "colab": {
          "base_uri": "https://localhost:8080/"
        },
        "id": "XaupMomaKoed",
        "outputId": "9b970368-c621-4f11-b1ce-5683c4bb6961"
      },
      "outputs": [
        {
          "name": "stdout",
          "output_type": "stream",
          "text": [
            "Mejor combinación de hiperparámetros: {'learning_rate': 0.2, 'max_depth': 5, 'n_estimators': 200}\n",
            "Precisión más alta encontrada: 0.8172707471932441\n",
            "Puntuación ROC AUC: 0.7955000977079766\n"
          ]
        }
      ],
      "source": [
        "from sklearn.ensemble import GradientBoostingClassifier\n",
        "from sklearn.model_selection import GridSearchCV\n",
        "from sklearn.metrics import roc_auc_score\n",
        "\n",
        "param_grid = {\n",
        "    'n_estimators': [50, 100, 200],\n",
        "    'learning_rate': [0.01, 0.1, 0.2],\n",
        "    'max_depth': [3, 4, 5]\n",
        "}\n",
        "\n",
        "model = GradientBoostingClassifier()\n",
        "grid_search = GridSearchCV(model, param_grid, cv=5, scoring='accuracy')\n",
        "grid_search.fit(X_train_resampled, y_train)  # X_train e y_train son tus datos de entrenamiento\n",
        "\n",
        "best_params = grid_search.best_params_\n",
        "best_accuracy = grid_search.best_score_\n",
        "\n",
        "# Entrena el modelo con los mejores parámetros\n",
        "best_model = GradientBoostingClassifier(**best_params)\n",
        "best_model.fit(X_train_resampled, y_train)\n",
        "\n",
        "# Realiza predicciones en el conjunto de prueba\n",
        "y_pred = best_model.predict(X_test)\n",
        "\n",
        "# Calcula la puntuación ROC AUC\n",
        "roc_auc = roc_auc_score(y_test, y_pred)\n",
        "\n",
        "print(\"Mejor combinación de hiperparámetros:\", best_params)\n",
        "print(\"Precisión más alta encontrada:\", best_accuracy)\n",
        "print(\"Puntuación ROC AUC:\", roc_auc)"
      ]
    },
    {
      "cell_type": "markdown",
      "metadata": {
        "id": "d65bPGmFbdlZ"
      },
      "source": [
        "##Base de datos balanceada"
      ]
    },
    {
      "cell_type": "markdown",
      "metadata": {
        "id": "SxXlWMK8dsn0"
      },
      "source": [
        "##Sin normalizar"
      ]
    },
    {
      "cell_type": "code",
      "execution_count": 7,
      "metadata": {},
      "outputs": [],
      "source": [
        "data = pd.read_excel('basededatos (1).xlsx')"
      ]
    },
    {
      "cell_type": "code",
      "execution_count": 8,
      "metadata": {
        "id": "KTfdU-wUdr6F"
      },
      "outputs": [],
      "source": [
        "x = data.drop('Tipo de cita', axis=1)  # Ajusta 'etiqueta' al nombre de la columna de etiquetas\n",
        "y = data['Tipo de cita']\n",
        "X_train, X_test, y_train, y_test = train_test_split(x, y, test_size=0.2, random_state=0)"
      ]
    },
    {
      "cell_type": "code",
      "execution_count": 9,
      "metadata": {
        "colab": {
          "base_uri": "https://localhost:8080/"
        },
        "id": "0i6qW96fdzbr",
        "outputId": "91192b7c-0bb0-4067-8227-1ea521662263"
      },
      "outputs": [
        {
          "name": "stdout",
          "output_type": "stream",
          "text": [
            "Mejor combinación de hiperparámetros: {'learning_rate': 0.2, 'max_depth': 5, 'n_estimators': 100}\n",
            "Precisión más alta encontrada: 0.7978442553042864\n",
            "Puntuación ROC AUC: 0.7953446766396406\n"
          ]
        }
      ],
      "source": [
        "from sklearn.ensemble import GradientBoostingClassifier\n",
        "from sklearn.model_selection import GridSearchCV\n",
        "from sklearn.metrics import roc_auc_score\n",
        "\n",
        "param_grid = {\n",
        "    'n_estimators': [50, 100, 200],\n",
        "    'learning_rate': [0.01, 0.1, 0.2],\n",
        "    'max_depth': [3, 4, 5]\n",
        "}\n",
        "\n",
        "model = GradientBoostingClassifier()\n",
        "grid_search = GridSearchCV(model, param_grid, cv=5, scoring='accuracy')\n",
        "grid_search.fit(X_train, y_train)  # X_train e y_train son tus datos de entrenamiento\n",
        "\n",
        "best_params = grid_search.best_params_\n",
        "best_accuracy = grid_search.best_score_\n",
        "\n",
        "# Entrena el modelo con los mejores parámetros\n",
        "best_model = GradientBoostingClassifier(**best_params)\n",
        "best_model.fit(X_train, y_train)\n",
        "\n",
        "# Realiza predicciones en el conjunto de prueba\n",
        "y_pred = best_model.predict(X_test)\n",
        "\n",
        "# Calcula la puntuación ROC AUC\n",
        "roc_auc = roc_auc_score(y_test, y_pred)\n",
        "\n",
        "print(\"Mejor combinación de hiperparámetros:\", best_params)\n",
        "print(\"Precisión más alta encontrada:\", best_accuracy)\n",
        "print(\"Puntuación ROC AUC:\", roc_auc)"
      ]
    },
    {
      "cell_type": "markdown",
      "metadata": {
        "id": "wqqxMv3Ze004"
      },
      "source": [
        "##Normalizada"
      ]
    },
    {
      "cell_type": "code",
      "execution_count": 10,
      "metadata": {
        "id": "b8XMw8Hte7e2"
      },
      "outputs": [],
      "source": [
        "x = data.drop('Tipo de cita', axis=1)  # Ajusta 'etiqueta' al nombre de la columna de etiquetas\n",
        "y = data['Tipo de cita']\n",
        "X_train_resampled, X_test, y_train_resampled, y_test = train_test_split(x, y, test_size=0.2, random_state=0)\n",
        "from sklearn.preprocessing import StandardScaler\n",
        "sc = StandardScaler()\n",
        "sc.fit(X_train_resampled)\n",
        "X_train_resampled= sc.transform(X_train_resampled)\n",
        "X_test = sc.transform(X_test)"
      ]
    },
    {
      "cell_type": "code",
      "execution_count": 11,
      "metadata": {
        "colab": {
          "base_uri": "https://localhost:8080/"
        },
        "id": "a3bhMc8ue9NW",
        "outputId": "a5cf51b8-1af8-4296-d62e-f2c961a11ef4"
      },
      "outputs": [
        {
          "name": "stdout",
          "output_type": "stream",
          "text": [
            "Mejor combinación de hiperparámetros: {'learning_rate': 0.2, 'max_depth': 5, 'n_estimators': 100}\n",
            "Precisión más alta encontrada: 0.7972614481163312\n",
            "Puntuación ROC AUC: 0.7945888187409256\n"
          ]
        }
      ],
      "source": [
        "from sklearn.ensemble import GradientBoostingClassifier\n",
        "from sklearn.model_selection import GridSearchCV\n",
        "from sklearn.metrics import roc_auc_score\n",
        "\n",
        "param_grid = {\n",
        "    'n_estimators': [50, 100, 200],\n",
        "    'learning_rate': [0.01, 0.1, 0.2],\n",
        "    'max_depth': [3, 4, 5]\n",
        "}\n",
        "\n",
        "model = GradientBoostingClassifier()\n",
        "grid_search = GridSearchCV(model, param_grid, cv=5, scoring='accuracy')\n",
        "grid_search.fit(X_train_resampled, y_train)  # X_train e y_train son tus datos de entrenamiento\n",
        "\n",
        "best_params = grid_search.best_params_\n",
        "best_accuracy = grid_search.best_score_\n",
        "\n",
        "# Entrena el modelo con los mejores parámetros\n",
        "best_model = GradientBoostingClassifier(**best_params)\n",
        "best_model.fit(X_train_resampled, y_train)\n",
        "\n",
        "# Realiza predicciones en el conjunto de prueba\n",
        "y_pred = best_model.predict(X_test)\n",
        "\n",
        "# Calcula la puntuación ROC AUC\n",
        "roc_auc = roc_auc_score(y_test, y_pred)\n",
        "\n",
        "print(\"Mejor combinación de hiperparámetros:\", best_params)\n",
        "print(\"Precisión más alta encontrada:\", best_accuracy)\n",
        "print(\"Puntuación ROC AUC:\", roc_auc)"
      ]
    }
  ],
  "metadata": {
    "colab": {
      "provenance": []
    },
    "kernelspec": {
      "display_name": "Python 3",
      "name": "python3"
    },
    "language_info": {
      "codemirror_mode": {
        "name": "ipython",
        "version": 3
      },
      "file_extension": ".py",
      "mimetype": "text/x-python",
      "name": "python",
      "nbconvert_exporter": "python",
      "pygments_lexer": "ipython3",
      "version": "3.10.9"
    }
  },
  "nbformat": 4,
  "nbformat_minor": 0
}
